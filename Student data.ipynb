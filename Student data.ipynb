{
 "cells": [
  {
   "cell_type": "markdown",
   "id": "6fba7a13",
   "metadata": {},
   "source": [
    "ASSIGNMENT FOUR:\n",
    "Find the mean, variance and standard deviation of the students age, height and weight"
   ]
  },
  {
   "cell_type": "code",
   "execution_count": 2,
   "id": "2199335c",
   "metadata": {},
   "outputs": [],
   "source": [
    "import numpy as np\n",
    "import pandas as pd\n",
    "\n"
   ]
  },
  {
   "cell_type": "code",
   "execution_count": 3,
   "id": "ff53f427",
   "metadata": {},
   "outputs": [
    {
     "name": "stdout",
     "output_type": "stream",
     "text": [
      "     S/N             student_names  age weight   height\n",
      "0    1.0            Adokorac Nancy   20     74    177.8\n",
      "1    2.0   Amutuhaire Faith Ahabwe   27     47   157.48\n",
      "2    3.0     KWAGALA JOANNA VICTOR   21     54   185.42\n",
      "3    4.0              mahoro cathy   23     30   185.42\n",
      "4    5.0  Mbabazi Hawa Bint Edrisa   19     59   175.26\n",
      "5    6.0       Nakanjako josephine   24     65   175.26\n",
      "6    7.0            Nanteza Dorcus   21     69   157.48\n",
      "7    8.0             Mbabazi Angel   19     57   167.64\n",
      "8    9.0            Namara Racheal   19     55   154.94\n",
      "9   10.0       Lwamulungi Sheillah   22     78   162.56\n",
      "10   NaN           Nakawuka Sandra   25     60   175.26\n",
      "11   NaN   Achola Gloria Fortunate   27     80   172.72\n",
      "12   NaN             Nagawa Esther   21     58   188.42\n",
      "13   NaN           wanjiku hananny   19     50    165.1\n",
      "14   NaN            babirye Sandra   21     50   175.26\n",
      "15   NaN          nakagga shanitah   21     50   175.26\n",
      "16   NaN    Wembabazi Vivian Ritah   20     49   160.02\n",
      "17   NaN   Nanziri Ritah Namayanja   23     70   162.56\n",
      "18   NaN            Nasejje Mariam   20     62    101.6\n",
      "19   NaN  Namukose Jolline Edriana   20     55   162.56\n",
      "20   NaN      Agatha Faith Anyango   27     55    93.98\n",
      "21   NaN              Kirabo Sarah   23     60    165.1\n",
      "22   NaN          Nansalire Anitah   21     45     63.5\n",
      "23   NaN             Nalugo gladys   19     70    101.6\n",
      "24   NaN            Namakula Allen   20     55   170.18\n",
      "25   NaN           Tukahirwa emily   22     67   175.26\n",
      "26   NaN            Shamirah Ahmed   21     67   137.16\n",
      "27   NaN          Ameso lmmaculate   23     64    165.1\n",
      "28   NaN                Ayoo Teddy   20     50   157.48\n",
      "29   NaN                Biira Mary   30     65   104.14\n",
      "30   NaN        Aloyo Brenda Ojera   23     52   170.18\n",
      "31   NaN        Ayebale Immaculate   24     50   162.56\n"
     ]
    }
   ],
   "source": [
    "data=pd.read_excel(r\"studentdata.xlsx\")\n",
    "print(data)"
   ]
  },
  {
   "cell_type": "code",
   "execution_count": 4,
   "id": "d071d246",
   "metadata": {},
   "outputs": [
    {
     "name": "stdout",
     "output_type": "stream",
     "text": [
      "Requirement already satisfied: openpyxl in c:\\users\\hp\\anaconda3\\lib\\site-packages (3.0.10)Note: you may need to restart the kernel to use updated packages.\n",
      "\n",
      "Requirement already satisfied: et_xmlfile in c:\\users\\hp\\anaconda3\\lib\\site-packages (from openpyxl) (1.1.0)\n"
     ]
    }
   ],
   "source": [
    "pip install openpyxl"
   ]
  },
  {
   "cell_type": "code",
   "execution_count": 7,
   "id": "d1ea2c05",
   "metadata": {},
   "outputs": [],
   "source": [
    "# to remove the NA from the table imported earlier\n",
    "data['height']=pd.to_numeric(data['height'], errors='coerce')\n",
    "data.dropna(subset=['height'], inplace=True)"
   ]
  },
  {
   "cell_type": "code",
   "execution_count": 12,
   "id": "328c071a",
   "metadata": {},
   "outputs": [
    {
     "data": {
      "text/plain": [
       "23.5"
      ]
     },
     "execution_count": 12,
     "metadata": {},
     "output_type": "execute_result"
    }
   ],
   "source": [
    "#Student age\n",
    "#mean of student age\n",
    "student_mean_age=data['age'].mean()\n",
    "student_mean_age"
   ]
  },
  {
   "cell_type": "code",
   "execution_count": 13,
   "id": "0d7d1589",
   "metadata": {},
   "outputs": [
    {
     "data": {
      "text/plain": [
       "0.7071067811865476"
      ]
     },
     "execution_count": 13,
     "metadata": {},
     "output_type": "execute_result"
    }
   ],
   "source": [
    "#finding standard deviation for student age\n",
    "student_std_age=data['age'].std()\n",
    "student_std_age"
   ]
  },
  {
   "cell_type": "code",
   "execution_count": 14,
   "id": "a806db3a",
   "metadata": {},
   "outputs": [
    {
     "data": {
      "text/plain": [
       "0.5"
      ]
     },
     "execution_count": 14,
     "metadata": {},
     "output_type": "execute_result"
    }
   ],
   "source": [
    "#finding the variance for student age\n",
    "student_var_age=data['age'].var()\n",
    "student_var_age"
   ]
  },
  {
   "cell_type": "code",
   "execution_count": 15,
   "id": "0e9a976a",
   "metadata": {},
   "outputs": [
    {
     "data": {
      "text/plain": [
       "166.37"
      ]
     },
     "execution_count": 15,
     "metadata": {},
     "output_type": "execute_result"
    }
   ],
   "source": [
    "#Student height\n",
    "#Finding mean for student height\n",
    "student_height_mean=data['height'].mean()\n",
    "student_height_mean"
   ]
  },
  {
   "cell_type": "code",
   "execution_count": 17,
   "id": "fedc5aad",
   "metadata": {},
   "outputs": [
    {
     "data": {
      "text/plain": [
       "5.388153672641495"
      ]
     },
     "execution_count": 17,
     "metadata": {},
     "output_type": "execute_result"
    }
   ],
   "source": [
    "#finding standard deviation for student height\n",
    "student_height_std=data['height'].std()\n",
    "student_height_std"
   ]
  },
  {
   "cell_type": "code",
   "execution_count": 18,
   "id": "487240ab",
   "metadata": {},
   "outputs": [
    {
     "data": {
      "text/plain": [
       "29.032200000000035"
      ]
     },
     "execution_count": 18,
     "metadata": {},
     "output_type": "execute_result"
    }
   ],
   "source": [
    "#finding variance for student height\n",
    "student_height_var=data['height'].var()\n",
    "student_height_var"
   ]
  },
  {
   "cell_type": "code",
   "execution_count": 20,
   "id": "fb5280b3",
   "metadata": {},
   "outputs": [
    {
     "data": {
      "text/plain": [
       "51.0"
      ]
     },
     "execution_count": 20,
     "metadata": {},
     "output_type": "execute_result"
    }
   ],
   "source": [
    "#Student weight\n",
    "#finding the student mean weight\n",
    "student_weight_mean=data['weight'].mean()\n",
    "student_weight_mean"
   ]
  },
  {
   "cell_type": "code",
   "execution_count": 21,
   "id": "4a1a0739",
   "metadata": {},
   "outputs": [
    {
     "data": {
      "text/plain": [
       "1.4142135623730951"
      ]
     },
     "execution_count": 21,
     "metadata": {},
     "output_type": "execute_result"
    }
   ],
   "source": [
    "#finding the student weight standard deviation\n",
    "student_weight_std=data['weight'].std()\n",
    "student_weight_std"
   ]
  },
  {
   "cell_type": "code",
   "execution_count": 22,
   "id": "0b027754",
   "metadata": {},
   "outputs": [
    {
     "data": {
      "text/plain": [
       "2.0"
      ]
     },
     "execution_count": 22,
     "metadata": {},
     "output_type": "execute_result"
    }
   ],
   "source": [
    "#finding the student weight variance\n",
    "student_weight_var=data['weight'].var()\n",
    "student_weight_var"
   ]
  },
  {
   "cell_type": "code",
   "execution_count": null,
   "id": "22786f97",
   "metadata": {},
   "outputs": [],
   "source": []
  }
 ],
 "metadata": {
  "kernelspec": {
   "display_name": "Python 3 (ipykernel)",
   "language": "python",
   "name": "python3"
  },
  "language_info": {
   "codemirror_mode": {
    "name": "ipython",
    "version": 3
   },
   "file_extension": ".py",
   "mimetype": "text/x-python",
   "name": "python",
   "nbconvert_exporter": "python",
   "pygments_lexer": "ipython3",
   "version": "3.11.4"
  }
 },
 "nbformat": 4,
 "nbformat_minor": 5
}
