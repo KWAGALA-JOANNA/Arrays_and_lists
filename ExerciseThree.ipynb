{
 "cells": [
  {
   "cell_type": "markdown",
   "metadata": {},
   "source": [
    "CREATING A LIST"
   ]
  },
  {
   "cell_type": "code",
   "execution_count": 6,
   "metadata": {},
   "outputs": [
    {
     "name": "stdout",
     "output_type": "stream",
     "text": [
      "<class 'list'>\n",
      "4\n"
     ]
    }
   ],
   "source": [
    "# creating a list \n",
    "x = [1, 2, 3, 4]\n",
    "\n",
    "print(type(x)) # Data type of x\n",
    "print (len(x))"
   ]
  },
  {
   "cell_type": "code",
   "execution_count": 58,
   "metadata": {},
   "outputs": [
    {
     "name": "stdout",
     "output_type": "stream",
     "text": [
      "<class 'list'>\n",
      "5\n"
     ]
    }
   ],
   "source": [
    "Kfc = [7.5, 5, 4.4, 3.75, 2.25,]\n",
    "print(type(Kfc)) # printing data type as list\n",
    "print(len(Kfc)) #len means length of the list"
   ]
  },
  {
   "cell_type": "code",
   "execution_count": 63,
   "metadata": {},
   "outputs": [
    {
     "name": "stdout",
     "output_type": "stream",
     "text": [
      "1.7235428628264513\n"
     ]
    }
   ],
   "source": [
    "#Standard deviation of kfc list\n",
    "print(np.std(Kfc))"
   ]
  },
  {
   "cell_type": "code",
   "execution_count": 54,
   "metadata": {},
   "outputs": [
    {
     "name": "stdout",
     "output_type": "stream",
     "text": [
      "float64\n"
     ]
    }
   ],
   "source": [
    "#importing numpy\n",
    "import numpy as np \n",
    "#creating a list from array\n",
    "Kfc_array = np.array([7.5, 5, 4.4, 3.75, 2.25])\n",
    "print(Kfc_array.dtype)"
   ]
  },
  {
   "cell_type": "code",
   "execution_count": 64,
   "metadata": {},
   "outputs": [
    {
     "name": "stdout",
     "output_type": "stream",
     "text": [
      "1.7235428628264513\n"
     ]
    }
   ],
   "source": [
    "# Standard deviation measures how the prices of cj and kfc vary\n",
    "print(np.std(Kfc_array))"
   ]
  },
  {
   "cell_type": "code",
   "execution_count": 57,
   "metadata": {},
   "outputs": [
    {
     "name": "stdout",
     "output_type": "stream",
     "text": [
      "[9.99, 7.99, 7.49, 7.0, 6.29, 4.99, 7.5, 5, 4.4, 3.75, 2.25]\n",
      "<class 'list'>\n",
      "6\n"
     ]
    }
   ],
   "source": [
    "#no 2\n",
    "# list of cj and kfc\n",
    "Cj = [9.99, 7.99, 7.49, 7.00, 6.29, 4.99]\n",
    "print(Cj + Kfc) # summation of lists\n",
    "print(type(Cj)) #printing the data type of cj\n",
    "print(len(Cj)) # len means length of the list"
   ]
  },
  {
   "cell_type": "code",
   "execution_count": 62,
   "metadata": {},
   "outputs": [
    {
     "name": "stdout",
     "output_type": "stream",
     "text": [
      "1.5380769017040583\n"
     ]
    }
   ],
   "source": [
    "#Standard deviation of the cj array\n",
    "print(np.std(Cj))"
   ]
  },
  {
   "cell_type": "code",
   "execution_count": 46,
   "metadata": {},
   "outputs": [
    {
     "name": "stdout",
     "output_type": "stream",
     "text": [
      "float64\n"
     ]
    }
   ],
   "source": [
    "# making cj list an array\n",
    "Cj_array = np.array([9.99, 7.99, 7.49, 7.00, 6.29])\n",
    "print(Cj_array.dtype) # getting the data type of elements in the Cj_array"
   ]
  },
  {
   "cell_type": "code",
   "execution_count": 65,
   "metadata": {},
   "outputs": [
    {
     "name": "stdout",
     "output_type": "stream",
     "text": [
      "1.251948880745536\n"
     ]
    }
   ],
   "source": [
    "#Standard deviation \n",
    "print(np.std(Cj_array))"
   ]
  },
  {
   "cell_type": "code",
   "execution_count": 47,
   "metadata": {},
   "outputs": [
    {
     "name": "stdout",
     "output_type": "stream",
     "text": [
      "[2.49 2.99 3.09 3.25 4.04]\n"
     ]
    }
   ],
   "source": [
    "# finding the difference of the array\n",
    "difference=(Cj_array - Kfc_array)\n",
    "print(difference)"
   ]
  },
  {
   "cell_type": "code",
   "execution_count": 51,
   "metadata": {},
   "outputs": [
    {
     "name": "stdout",
     "output_type": "stream",
     "text": [
      "3.1719999999999997\n"
     ]
    }
   ],
   "source": [
    "# another way of getting the mean difference\n",
    "print(np.mean(Cj_array-Kfc_array))"
   ]
  },
  {
   "cell_type": "code",
   "execution_count": 48,
   "metadata": {},
   "outputs": [
    {
     "name": "stdout",
     "output_type": "stream",
     "text": [
      "3.1719999999999997\n"
     ]
    }
   ],
   "source": [
    "# getting the mean of the difference\n",
    "print(np.mean(difference))"
   ]
  },
  {
   "cell_type": "code",
   "execution_count": 61,
   "metadata": {},
   "outputs": [
    {
     "name": "stdout",
     "output_type": "stream",
     "text": [
      "0.502887661411572\n"
     ]
    }
   ],
   "source": [
    "# finding standard deviation\n",
    "print(np.std(difference))"
   ]
  }
 ],
 "metadata": {
  "kernelspec": {
   "display_name": "Python 3",
   "language": "python",
   "name": "python3"
  },
  "language_info": {
   "codemirror_mode": {
    "name": "ipython",
    "version": 3
   },
   "file_extension": ".py",
   "mimetype": "text/x-python",
   "name": "python",
   "nbconvert_exporter": "python",
   "pygments_lexer": "ipython3",
   "version": "3.11.4"
  },
  "orig_nbformat": 4
 },
 "nbformat": 4,
 "nbformat_minor": 2
}
